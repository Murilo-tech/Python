{
  "nbformat": 4,
  "nbformat_minor": 0,
  "metadata": {
    "colab": {
      "provenance": [],
      "authorship_tag": "ABX9TyMiSmxNYxzYc2N5i6D9w7QC",
      "include_colab_link": true
    },
    "kernelspec": {
      "name": "python3",
      "display_name": "Python 3"
    },
    "language_info": {
      "name": "python"
    }
  },
  "cells": [
    {
      "cell_type": "markdown",
      "metadata": {
        "id": "view-in-github",
        "colab_type": "text"
      },
      "source": [
        "<a href=\"https://colab.research.google.com/github/Murilo-tech/Python/blob/main/Untitled0.ipynb\" target=\"_parent\"><img src=\"https://colab.research.google.com/assets/colab-badge.svg\" alt=\"Open In Colab\"/></a>"
      ]
    },
    {
      "cell_type": "code",
      "execution_count": 1,
      "metadata": {
        "colab": {
          "base_uri": "https://localhost:8080/"
        },
        "id": "aaDOA-7Cy7v9",
        "outputId": "29ebf06e-8163-423e-adab-68b7cd09732a"
      },
      "outputs": [
        {
          "output_type": "stream",
          "name": "stdout",
          "text": [
            "Digite a temperatura em Fahrenheit: 60\n",
            "A temperatura em Celsius é: 15.56\n"
          ]
        }
      ],
      "source": [
        "# Solicitar ao usuário a temperatura em Fahrenheit\n",
        "fahrenheit = float(input(\"Digite a temperatura em Fahrenheit: \"))\n",
        "\n",
        "# Calcular a temperatura em Celsius\n",
        "celsius = (5 / 9) * (fahrenheit - 32)\n",
        "\n",
        "# Exibir a temperatura em Celsius\n",
        "print(f\"A temperatura em Celsius é: {celsius:.2f}\")"
      ]
    }
  ]
}